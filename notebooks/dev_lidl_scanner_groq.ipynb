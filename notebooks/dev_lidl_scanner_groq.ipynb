{
 "cells": [
  {
   "cell_type": "code",
   "execution_count": 12,
   "id": "413433e1",
   "metadata": {},
   "outputs": [],
   "source": [
    "import sys\n",
    "from pathlib import Path\n",
    "import os\n",
    "import base64\n",
    "from groq import Groq\n",
    "\n",
    "from dotenv import load_dotenv\n",
    "import json\n",
    "import re\n",
    "from datetime import date\n",
    "\n",
    "load_dotenv()\n",
    "\n",
    "project_root = Path().resolve().parent  \n",
    "sys.path.append(str(project_root))\n",
    "\n",
    "IMAGE_PATH = project_root / \"data/raw/lidl/WhatsApp Image 2025-09-09 at 12.48.55.jpeg\"\n"
   ]
  },
  {
   "cell_type": "code",
   "execution_count": null,
   "id": "9c75f83b",
   "metadata": {},
   "outputs": [],
   "source": [
    "# https://console.groq.com/docs/vision"
   ]
  },
  {
   "cell_type": "code",
   "execution_count": 3,
   "id": "b06603b5",
   "metadata": {},
   "outputs": [
    {
     "name": "stdout",
     "output_type": "stream",
     "text": [
      "Valid: file exists\n"
     ]
    }
   ],
   "source": [
    "if os.path.isfile(IMAGE_PATH):\n",
    "    print(\"Valid: file exists\")\n",
    "else:\n",
    "    print(\"Invalid: not a file or doesn’t exist\")"
   ]
  },
  {
   "cell_type": "code",
   "execution_count": 4,
   "id": "84ddd5f6",
   "metadata": {},
   "outputs": [],
   "source": [
    "# Function to encode the image\n",
    "def encode_image(image_path):\n",
    "  with open(image_path, \"rb\") as image_file:\n",
    "    return base64.b64encode(image_file.read()).decode('utf-8')"
   ]
  },
  {
   "cell_type": "code",
   "execution_count": 5,
   "id": "b30e5f37",
   "metadata": {},
   "outputs": [],
   "source": [
    "base64_image = encode_image(IMAGE_PATH)"
   ]
  },
  {
   "cell_type": "code",
   "execution_count": 34,
   "id": "01638287",
   "metadata": {},
   "outputs": [],
   "source": [
    "# Groq and OpenAI both follow the Chat Completions API format, which is structured around a list of messages.\n",
    "\"\"\"\n",
    "    The structure is nested arrays and dictionaries:\n",
    "    Outer array → list of messages (prompt)\n",
    "    Each message → dictionary with role and content\n",
    "    Content array → list of content parts (text, image, etc.)\n",
    "\"\"\"\n",
    "\n",
    "prompt = [\n",
    "    {\n",
    "        \"role\": \"system\",\n",
    "        \"content\": [\n",
    "            { \"type\": \"text\", \"text\": \"You are a helpful assistant that extracts structured data from receipts.\" }\n",
    "        ]\n",
    "    },\n",
    "    {\n",
    "        \"role\": \"user\",\n",
    "        \"content\": [\n",
    "            { \n",
    "                \"type\": \"text\", \n",
    "                \"text\": (\n",
    "                    \"Extract all items from this receipt and return the data in a JSON table format \"\n",
    "                    \"with the following columns: product, quantity, price_unit, price_total, discount_amount, discount_ind. \"\n",
    "                    \"If a field is not present, use null. \"\n",
    "                    \"If a line represents a discount, add the value to the discount_amount of the item above and mark the discount_ind = 'J' for the item above. Do not change other values of the item above. \"\n",
    "                    \"Do not include discount lines as separate rows. \"\n",
    "                    \"Do not include any extra text, just return the JSON.\"\n",
    "                ) \n",
    "            },\n",
    "            { \"type\": \"image_url\", \"image_url\": { \"url\": f\"data:image/jpeg;base64,{base64_image}\" } }\n",
    "        ]\n",
    "    }\n",
    "]"
   ]
  },
  {
   "cell_type": "code",
   "execution_count": 35,
   "id": "96e0fc9f",
   "metadata": {},
   "outputs": [],
   "source": [
    "client = Groq()\n",
    "chat_completion = client.chat.completions.create(\n",
    "    messages=prompt,\n",
    "    model=\"meta-llama/llama-4-scout-17b-16e-instruct\",\n",
    ")\n",
    "message_content = chat_completion.choices[0].message.content"
   ]
  },
  {
   "cell_type": "code",
   "execution_count": 9,
   "id": "1a242a39",
   "metadata": {},
   "outputs": [],
   "source": [
    "def parse_str(message_content: str):\n",
    "    \n",
    "    message_clean = message_content.strip().strip(\"```json\").strip(\"```\")\n",
    "\n",
    "    try:\n",
    "        message_json = json.loads(message_clean)\n",
    "        return message_json\n",
    "    except json.JSONDecodeError:\n",
    "        return \"There was some error parsing the model's output\"\n",
    "    except Exception as e:\n",
    "        print(f\"Unexpected error: {e}\")\n",
    "        return \"There was some error parsing the model's output\""
   ]
  },
  {
   "cell_type": "code",
   "execution_count": 36,
   "id": "bdfd3a6b",
   "metadata": {},
   "outputs": [
    {
     "name": "stdout",
     "output_type": "stream",
     "text": [
      "{'product': 'Rasp kaas jong bele', 'quantity': 2, 'price_unit': 2.99, 'price_total': 5.98, 'discount_amount': None, 'discount_ind': None}\n"
     ]
    }
   ],
   "source": [
    "parsed_output = parse_str(message_content)\n",
    "print(parsed_output[5])"
   ]
  },
  {
   "cell_type": "code",
   "execution_count": 38,
   "id": "ae445172",
   "metadata": {},
   "outputs": [],
   "source": [
    "# Loop over all receipts lines and write to database\n",
    "for receipt_line in parsed_output:\n",
    "    \n",
    "    # define variables to insert into database\n",
    "    filename = \"x\"\n",
    "    receipt_date = \"9999-12-31\"\n",
    "    store_cod = \"LIDL\"\n",
    "    load_date = date.today()\n",
    "    submitted_by = \"jjvanderuitenbeek\"\n",
    "\n",
    "    # transform values to database types\n",
    "    quantity = (receipt_line['quantity'] or 1)\n",
    "    product = receipt_line['product'].strip()\n",
    "    price_unit = receipt_line['price_unit']\n",
    "    price_total = quantity * price_unit\n",
    "    discount_ind = (receipt_line['discount_ind'] or 'N')"
   ]
  }
 ],
 "metadata": {
  "kernelspec": {
   "display_name": ".venv",
   "language": "python",
   "name": "python3"
  },
  "language_info": {
   "codemirror_mode": {
    "name": "ipython",
    "version": 3
   },
   "file_extension": ".py",
   "mimetype": "text/x-python",
   "name": "python",
   "nbconvert_exporter": "python",
   "pygments_lexer": "ipython3",
   "version": "3.13.7"
  }
 },
 "nbformat": 4,
 "nbformat_minor": 5
}
