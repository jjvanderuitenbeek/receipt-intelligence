{
 "cells": [
  {
   "cell_type": "code",
   "execution_count": 1,
   "id": "b94a5a7a",
   "metadata": {},
   "outputs": [],
   "source": [
    "import sys\n",
    "from pathlib import Path\n",
    "import os\n",
    "\n",
    "from groq import Groq\n",
    "\n",
    "from dotenv import load_dotenv\n",
    "\n",
    "\n",
    "load_dotenv()\n",
    "\n",
    "project_root = Path().resolve().parent  \n",
    "sys.path.append(str(project_root))"
   ]
  },
  {
   "cell_type": "code",
   "execution_count": 22,
   "id": "32722cff",
   "metadata": {},
   "outputs": [],
   "source": [
    "# Groq and OpenAI both follow the Chat Completions API format, which is structured around a list of messages.\n",
    "prompt = [\n",
    "        {\n",
    "            \"role\": \"system\",\n",
    "            \"content\": \"You are a product categorization assistant. Your task is to read a description from a supermarket receipt and assign it to a single, well-known product.\"\n",
    "        },\n",
    "        {\n",
    "            \"role\": \"user\",\n",
    "            \"content\": (\n",
    "                \"Instructions: \"\n",
    "                \"1. Only choose one product per description. \"\n",
    "                \"2. Use common products like: Yoghurt, Pears, Eggs, etc. \"\n",
    "                \"3. Do not create new products; stick to well-known ones. \"\n",
    "                \"4. Output only the product name. \"\n",
    "                \"Example 1: \"\n",
    "                \"Description: Tarwebloem \"\n",
    "                \"Product: Tarwebloem\"\n",
    "                \"Example 2: \"\n",
    "                \"Description: AH FETA \"\n",
    "                \"Product: FETA \"\n",
    "                \"Description:  LP MATISS HL \"\n",
    "                \"Product: Bread \"\n",
    "                f\"Now categorize the following product description: AH DRINKYOGH\"\n",
    "            )\n",
    "        }\n",
    "    ]"
   ]
  },
  {
   "cell_type": "code",
   "execution_count": 23,
   "id": "267bdb80",
   "metadata": {},
   "outputs": [
    {
     "name": "stdout",
     "output_type": "stream",
     "text": [
      "Yoghurt\n"
     ]
    }
   ],
   "source": [
    "client = Groq()\n",
    "chat_completion = client.chat.completions.create(\n",
    "    messages=prompt,\n",
    "    model=\"meta-llama/llama-4-scout-17b-16e-instruct\",\n",
    ")\n",
    "message_content = chat_completion.choices[0].message.content\n",
    "print(message_content)"
   ]
  },
  {
   "cell_type": "code",
   "execution_count": 14,
   "id": "973bcc56",
   "metadata": {},
   "outputs": [
    {
     "name": "stdout",
     "output_type": "stream",
     "text": [
      "Grocery\n"
     ]
    }
   ],
   "source": [
    "print(message_content)"
   ]
  }
 ],
 "metadata": {
  "kernelspec": {
   "display_name": ".venv",
   "language": "python",
   "name": "python3"
  },
  "language_info": {
   "codemirror_mode": {
    "name": "ipython",
    "version": 3
   },
   "file_extension": ".py",
   "mimetype": "text/x-python",
   "name": "python",
   "nbconvert_exporter": "python",
   "pygments_lexer": "ipython3",
   "version": "3.13.7"
  }
 },
 "nbformat": 4,
 "nbformat_minor": 5
}
