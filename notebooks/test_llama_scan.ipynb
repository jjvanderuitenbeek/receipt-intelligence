{
 "cells": [
  {
   "cell_type": "code",
   "execution_count": null,
   "id": "c29e3175",
   "metadata": {},
   "outputs": [],
   "source": [
    "import sys\n",
    "import sqlite3\n",
    "from pathlib import Path\n",
    "import os\n",
    "\n",
    "import llama_scan\n",
    "\n",
    "project_root = Path().resolve().parent  \n",
    "sys.path.append(str(project_root))\n"
   ]
  },
  {
   "cell_type": "code",
   "execution_count": 18,
   "id": "2df03b43",
   "metadata": {},
   "outputs": [],
   "source": [
    "PDF_PATH = project_root / \"data/raw/AH_kassabon_2025-08-23 094800_1209.pdf\""
   ]
  },
  {
   "cell_type": "code",
   "execution_count": 20,
   "id": "91a06c00",
   "metadata": {},
   "outputs": [
    {
     "ename": "SyntaxError",
     "evalue": "invalid decimal literal (4232769553.py, line 1)",
     "output_type": "error",
     "traceback": [
      "  \u001b[36mCell\u001b[39m\u001b[36m \u001b[39m\u001b[32mIn[20]\u001b[39m\u001b[32m, line 1\u001b[39m\n\u001b[31m    \u001b[39m\u001b[31mollama run qwen2.5vl:latest\u001b[39m\n                     ^\n\u001b[31mSyntaxError\u001b[39m\u001b[31m:\u001b[39m invalid decimal literal\n"
     ]
    }
   ],
   "source": [
    "ollama run qwen2.5vl:latest"
   ]
  },
  {
   "cell_type": "code",
   "execution_count": 19,
   "id": "8ade0c24",
   "metadata": {},
   "outputs": [
    {
     "name": "stdout",
     "output_type": "stream",
     "text": [
      "Valid: file exists\n"
     ]
    }
   ],
   "source": [
    "if os.path.isfile(PDF_PATH):\n",
    "    print(\"Valid: file exists\")\n",
    "else:\n",
    "    print(\"Invalid: not a file or doesn’t exist\")"
   ]
  },
  {
   "cell_type": "code",
   "execution_count": 6,
   "id": "2fac3fe7",
   "metadata": {},
   "outputs": [
    {
     "ename": "SyntaxError",
     "evalue": "invalid syntax (2059573476.py, line 1)",
     "output_type": "error",
     "traceback": [
      "  \u001b[36mCell\u001b[39m\u001b[36m \u001b[39m\u001b[32mIn[6]\u001b[39m\u001b[32m, line 1\u001b[39m\n\u001b[31m    \u001b[39m\u001b[31mllama-scan PDF_PATH\u001b[39m\n               ^\n\u001b[31mSyntaxError\u001b[39m\u001b[31m:\u001b[39m invalid syntax\n"
     ]
    }
   ],
   "source": [
    "llama-scan PDF_PATH"
   ]
  }
 ],
 "metadata": {
  "kernelspec": {
   "display_name": ".venv",
   "language": "python",
   "name": "python3"
  },
  "language_info": {
   "codemirror_mode": {
    "name": "ipython",
    "version": 3
   },
   "file_extension": ".py",
   "mimetype": "text/x-python",
   "name": "python",
   "nbconvert_exporter": "python",
   "pygments_lexer": "ipython3",
   "version": "3.13.7"
  }
 },
 "nbformat": 4,
 "nbformat_minor": 5
}
