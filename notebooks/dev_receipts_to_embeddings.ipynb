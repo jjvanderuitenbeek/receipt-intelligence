{
 "cells": [
  {
   "cell_type": "code",
   "execution_count": null,
   "id": "c68cef19",
   "metadata": {},
   "outputs": [],
   "source": [
    "from langchain_huggingface import HuggingFaceEmbeddings\n"
   ]
  },
  {
   "cell_type": "code",
   "execution_count": 23,
   "id": "eef4e718",
   "metadata": {},
   "outputs": [
    {
     "name": "stderr",
     "output_type": "stream",
     "text": [
      "c:\\Users\\Aline vd Ruitenbeek\\Documents\\Jonathan\\Python projects\\receipt-intelligence\\.venv\\Lib\\site-packages\\huggingface_hub\\file_download.py:143: UserWarning: `huggingface_hub` cache-system uses symlinks by default to efficiently store duplicated files but your machine does not support them in C:\\Users\\Aline vd Ruitenbeek\\.cache\\huggingface\\hub\\models--sentence-transformers--all-MiniLM-L6-v2. Caching files will still work but in a degraded version that might require more space on your disk. This warning can be disabled by setting the `HF_HUB_DISABLE_SYMLINKS_WARNING` environment variable. For more details, see https://huggingface.co/docs/huggingface_hub/how-to-cache#limitations.\n",
      "To support symlinks on Windows, you either need to activate Developer Mode or to run Python as an administrator. In order to activate developer mode, see this article: https://docs.microsoft.com/en-us/windows/apps/get-started/enable-your-device-for-development\n",
      "  warnings.warn(message)\n",
      "Xet Storage is enabled for this repo, but the 'hf_xet' package is not installed. Falling back to regular HTTP download. For better performance, install the package with: `pip install huggingface_hub[hf_xet]` or `pip install hf_xet`\n"
     ]
    }
   ],
   "source": [
    "# Initialize the embeddings model\n",
    "# You can choose a different model if you like\n",
    "embeddings_model = HuggingFaceEmbeddings(model_name=\"all-MiniLM-L6-v2\", model_kwargs={\"device\": \"cpu\"})"
   ]
  },
  {
   "cell_type": "code",
   "execution_count": 27,
   "id": "14bee4da",
   "metadata": {},
   "outputs": [],
   "source": [
    "texts = [\"Neo koekjes\", \"MATZES\", \"TARWEBLOEM\", \"LP MATISSE\"]\n",
    "embeddings = embeddings_model.embed_documents(texts)"
   ]
  },
  {
   "cell_type": "code",
   "execution_count": 28,
   "id": "c03080a8",
   "metadata": {},
   "outputs": [
    {
     "name": "stdout",
     "output_type": "stream",
     "text": [
      "Text: Neo koekjes\n",
      "Embedding: [-0.05641277879476547, 0.1021861657500267, -0.06823946535587311, 0.04252700135111809, -0.019843319430947304, 0.0452815443277359, 0.09294798225164413, 0.010030463337898254, 0.026367297396063805, -0.00978628545999527]...\n",
      "\n",
      "Text: MATZES\n",
      "Embedding: [-0.028479311615228653, 0.08808719366788864, -0.020998135209083557, -0.013941511511802673, -0.06675775349140167, -0.024830255657434464, 0.10058852285146713, -0.0018361250404268503, 0.043232664465904236, 0.017478691413998604]...\n",
      "\n",
      "Text: TARWEBLOEM\n",
      "Embedding: [-0.026289137080311775, 0.04815950617194176, -0.022135602310299873, 0.03077487275004387, 0.028681354597210884, -0.018498888239264488, 0.12044656276702881, 0.017475498840212822, -0.06536199152469635, 0.012792639434337616]...\n",
      "\n",
      "Text: LP MATISSE\n",
      "Embedding: [-0.0031256936490535736, 0.004310977645218372, -0.06374235451221466, -0.018917256966233253, -0.015757054090499878, 0.08820853382349014, 0.020879633724689484, 0.07722660154104233, 0.05084730312228203, -0.006555081345140934]...\n",
      "\n"
     ]
    }
   ],
   "source": [
    "for text, emb in zip(texts, embeddings):\n",
    "    print(f\"Text: {text}\")\n",
    "    print(f\"Embedding: {emb[:10]}...\")  # Print first 10 numbers for brevity\n",
    "    print()"
   ]
  }
 ],
 "metadata": {
  "kernelspec": {
   "display_name": ".venv",
   "language": "python",
   "name": "python3"
  },
  "language_info": {
   "codemirror_mode": {
    "name": "ipython",
    "version": 3
   },
   "file_extension": ".py",
   "mimetype": "text/x-python",
   "name": "python",
   "nbconvert_exporter": "python",
   "pygments_lexer": "ipython3",
   "version": "3.13.7"
  }
 },
 "nbformat": 4,
 "nbformat_minor": 5
}
