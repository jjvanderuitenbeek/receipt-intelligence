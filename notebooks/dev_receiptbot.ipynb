{
 "cells": [
  {
   "cell_type": "code",
   "execution_count": 10,
   "id": "80bea3fb",
   "metadata": {},
   "outputs": [],
   "source": [
    "from langchain_core.prompts import ChatPromptTemplate, MessagesPlaceholder\n",
    "\n",
    "#https://github.com/neural-maze/philoagents-course/blob/7792f5546048e7c109881fa17df4a9039a9d61b5/philoagents-api/src/philoagents/application/conversation_service/workflow/chains.py\n",
    "\n",
    "import os\n",
    "from pathlib import Path\n",
    "import sys\n",
    "from langchain_groq import ChatGroq\n",
    "from dotenv import load_dotenv\n",
    "import logging\n",
    "\n",
    "project_root = Path().resolve().parent  \n",
    "sys.path.append(str(project_root))\n",
    "\n",
    "load_dotenv()\n",
    "\n",
    "from src.receipt_intelligence.config import settings\n",
    "from src.receipt_intelligence.domain.prompts import Prompts\n",
    "\n",
    "\n"
   ]
  },
  {
   "cell_type": "code",
   "execution_count": 11,
   "id": "f88679ed",
   "metadata": {},
   "outputs": [],
   "source": [
    "def get_chat_model(temperature: float = 0.7, model_name: str = settings.GROQ_LLM_MODEL) -> ChatGroq:\n",
    "    return ChatGroq(\n",
    "        api_key=os.getenv(\"GROQ_API_KEY\"),\n",
    "        model_name=model_name,\n",
    "        temperature=temperature,\n",
    "    )\n",
    "\n",
    "def get_receiptbot_response_chain():\n",
    "    model = get_chat_model()\n",
    "    #model = model.bind_tools(tools)\n",
    "\n",
    "    prompt = ChatPromptTemplate.from_messages(\n",
    "        [\n",
    "            (\"system\", Prompts.RECEIPT_BOT_PROMPT),\n",
    "            MessagesPlaceholder(variable_name=\"messages\"),\n",
    "        ],\n",
    "        template_format=\"jinja2\",\n",
    "    )\n",
    "\n",
    "    return prompt | model\n",
    "\n",
    "def get_conversation_summary_chain(summary: str = \"\"):\n",
    "\n",
    "    model = get_chat_model()\n",
    "\n",
    "    prompt = ChatPromptTemplate.from_messages(\n",
    "        [\n",
    "            MessagesPlaceholder(variable_name=\"messages\"),\n",
    "            (\"human\", Prompts.SUMMARY_PROMPT),\n",
    "        ],\n",
    "        template_format=\"jinja2\",\n",
    "    )\n",
    "\n",
    "    return prompt | model\n"
   ]
  },
  {
   "cell_type": "code",
   "execution_count": 12,
   "id": "a85d0783",
   "metadata": {},
   "outputs": [
    {
     "name": "stdout",
     "output_type": "stream",
     "text": [
      "I can only help with questions about receipt information in the database. For example, you could ask me about the prices of certain products.\n"
     ]
    }
   ],
   "source": [
    "chain = get_receiptbot_response_chain()\n",
    "\n",
    "response = chain.invoke({\n",
    "    \"messages\": [(\"human\", \"What is the meaning of life?\")]\n",
    "})\n",
    "print(response.content)"
   ]
  },
  {
   "cell_type": "code",
   "execution_count": 13,
   "id": "ac530966",
   "metadata": {},
   "outputs": [
    {
     "name": "stdout",
     "output_type": "stream",
     "text": [
      "RECEIPT\n"
     ]
    }
   ],
   "source": [
    "chain = get_receiptbot_response_chain()\n",
    "\n",
    "response = chain.invoke({\n",
    "    \"messages\": [(\"human\", \"What is the average price of bread?\")]\n",
    "})\n",
    "print(response.content)"
   ]
  },
  {
   "cell_type": "code",
   "execution_count": null,
   "id": "dfad2a12",
   "metadata": {},
   "outputs": [],
   "source": [
    "def classify_message(state: ConversationState):\n",
    "    \n",
    "    last_message = state.messages[-1]\n",
    "    model = get_chat_model()\n",
    "\n",
    "    prompt = [\n",
    "            {\n",
    "                \"role\": \"system\",\n",
    "                \"content\": \"Classify the user message as either: \"\n",
    "                \"'generate_sqlquery_node': if the user asks a question directly related to receipt data\"\n",
    "                \"'introduction_node': if the user asks about anything unrelated to the receipt data\"\n",
    "                \"You can only output one of these: 'generate_sqlquery_node' or 'introduction_node'\"\n",
    "            },\n",
    "            {\n",
    "                \"role\": \"user\",\n",
    "                \"content\": last_message.content\n",
    "            }\n",
    "        ]\n",
    "\n",
    "    response = model.invoke(prompt)\n",
    "\n",
    "    return response.content"
   ]
  },
  {
   "cell_type": "code",
   "execution_count": null,
   "id": "2125a2ea",
   "metadata": {},
   "outputs": [],
   "source": []
  }
 ],
 "metadata": {
  "kernelspec": {
   "display_name": ".venv",
   "language": "python",
   "name": "python3"
  },
  "language_info": {
   "codemirror_mode": {
    "name": "ipython",
    "version": 3
   },
   "file_extension": ".py",
   "mimetype": "text/x-python",
   "name": "python",
   "nbconvert_exporter": "python",
   "pygments_lexer": "ipython3",
   "version": "3.13.7"
  }
 },
 "nbformat": 4,
 "nbformat_minor": 5
}
