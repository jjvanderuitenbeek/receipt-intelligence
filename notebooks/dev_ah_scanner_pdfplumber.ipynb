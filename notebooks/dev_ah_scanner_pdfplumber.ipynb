{
 "cells": [
  {
   "cell_type": "code",
   "execution_count": 6,
   "id": "c29e3175",
   "metadata": {},
   "outputs": [],
   "source": [
    "import sys\n",
    "import sqlite3\n",
    "from pathlib import Path\n",
    "import os\n",
    "\n",
    "project_root = Path().resolve().parent  \n",
    "sys.path.append(str(project_root))\n"
   ]
  },
  {
   "cell_type": "code",
   "execution_count": 13,
   "id": "2df03b43",
   "metadata": {},
   "outputs": [],
   "source": [
    "PDF_PATH = project_root / \"data/raw/ah/AH_kassabon_2025-08-25 185700_1209.pdf\"\n",
    "DB_PATH = project_root / \"data/cleaned/receipts.db\""
   ]
  },
  {
   "cell_type": "code",
   "execution_count": 8,
   "id": "bbb27153",
   "metadata": {},
   "outputs": [],
   "source": [
    "# connect to database\n",
    "conn = sqlite3.connect(DB_PATH)\n",
    "cursor = conn.cursor()"
   ]
  },
  {
   "cell_type": "code",
   "execution_count": 14,
   "id": "8ade0c24",
   "metadata": {},
   "outputs": [
    {
     "name": "stdout",
     "output_type": "stream",
     "text": [
      "Valid: file exists\n"
     ]
    }
   ],
   "source": [
    "if os.path.isfile(PDF_PATH):\n",
    "    print(\"Valid: file exists\")\n",
    "else:\n",
    "    print(\"Invalid: not a file or doesn’t exist\")"
   ]
  },
  {
   "cell_type": "code",
   "execution_count": 15,
   "id": "32726cf9",
   "metadata": {},
   "outputs": [],
   "source": [
    "import pdfplumber\n",
    "\n",
    "# returns the full receipt in a single string\n",
    "# each product is separated by a new line\n",
    "full_text = \"\"\n",
    "\n",
    "with pdfplumber.open(PDF_PATH) as pdf:\n",
    "    for page in pdf.pages:\n",
    "        text = page.extract_text()\n",
    "        full_text += text"
   ]
  },
  {
   "cell_type": "code",
   "execution_count": 16,
   "id": "50a849dd",
   "metadata": {},
   "outputs": [
    {
     "name": "stdout",
     "output_type": "stream",
     "text": [
      "ALBERT HEIJN 1209\n",
      "Harderwijkerweg 18\n",
      "8071 GA Nunspeet 0341-252014\n",
      "AANTAL OMSCHRIJVING PRIJS BEDRAG\n",
      "BONUSKAART xx5298\n",
      "2 OET PIZZA 4,99 9,98 B\n",
      "2 OETKER PIZZA 4,99 9,98 B\n",
      "1 MAESTRO WIT 5,29 B\n",
      "3 NORTON 7,99 23,97 B\n",
      "4 AH DRINKYOGH 1,29 5,16\n",
      "2 DZH YOGHURT 2,29 4,58\n",
      "1 AH BURRATINE 2,99\n",
      "1 HARIBO 1,99\n",
      "2 AH OLIJVEN 1,59 3,18\n",
      "2 MENTOS GUM 4,69 9,38 B\n",
      "2 POFFERTJES 1,89 3,78 B\n",
      "2 PAPRIKA 0,65 1,30 B\n",
      "2 WALDK HEEL 2,39 4,78\n",
      "26 SUBTOTAAL 86,36\n",
      "BONUS ElMaestroenT -1,00\n",
      "BONUS MENTOSKAUWGO -4,69\n",
      "BONUS AHPAPRIKAROO -0,31\n",
      "BONUS NORTONWK35 -6,00\n",
      "BONUS ALLEDR.OETKE -9,98\n",
      "BONUS AHPANK8,POFF -1,89\n",
      "UW VOORDEEL 23,87\n",
      "Waarvan\n",
      "BONUS BOX 0,00\n",
      "TOTAAL 62,49\n",
      "SPAARACTIES:\n",
      "18 eSPAARZEGELS\n",
      "BETAALD MET:\n",
      "PINNEN 62,49\n",
      "POI: 50068808\n",
      "KLANTTICKET Terminal 4FMH8C\n",
      "Merchant 1315641 Periode 5237\n",
      "Transactie 01243746 P 5 A 0 R 01 : 363BCW0I3YEILNSNHGSWMK8R\n",
      "Z Debit Mastercard\n",
      "(A0000000041010) DEBIT MASTERCARD\n",
      "Kaart 537476xxxxxx6830 Kaartserienummer 1\n",
      "BETALING Datum 25/08/2025 19:00\n",
      "Autorisatiecode 001B85 Totaal 62,49 EUR\n",
      "Contactless Leesmethode CHIPMet PIN gevalideerd\n",
      "BTW OVER EUR\n",
      "9% 36,91 3,32\n",
      "21% 18,40 3,86\n",
      "TOTAAL 55,31 7,18\n",
      "1209 34 150\n",
      "18:57 25-8-2025\n",
      "Vragen over je kassabon?\n",
      "Onze medewerkers\n",
      "helpen je graag.\n"
     ]
    }
   ],
   "source": [
    "print(full_text)"
   ]
  },
  {
   "cell_type": "code",
   "execution_count": null,
   "id": "2fac3fe7",
   "metadata": {},
   "outputs": [
    {
     "name": "stdout",
     "output_type": "stream",
     "text": [
      "('2', 'TIJGER VOLK ', '1,99', '3,98', 'B')\n",
      "('1', 'AH VVP HAGEL ', '3,49', None, None)\n",
      "('1', 'VENZ XXL ', '3,99', None, None)\n",
      "('2', 'COOLBEST ', '2,29', '4,58', 'B')\n",
      "('2', 'DONUT DECO ', '3,95', '7,90', 'B')\n"
     ]
    }
   ],
   "source": [
    "import re\n",
    "\n",
    "# define booleans to catch start of receipt and end of receipt\n",
    "start_receipt = 0\n",
    "end_receipt = 0\n",
    "\n",
    "filename = \"AH_kassabon_2025-08-23 094800_1209.pdf\"\n",
    "\n",
    "# loop over all lines in the receipt\n",
    "for line in text.splitlines():\n",
    "\n",
    "    if 'SUBTOTAAL' in line:\n",
    "        end_receipt = 1  \n",
    "\n",
    "    # only for the line items: extarct the different components\n",
    "    if start_receipt == 1 and end_receipt == 0:\n",
    "        match = re.match(r\"(\\d+)?\\s*([A-Z ]+)?\\s*([\\d,]+)?\\s*([\\d,]+)?\\s*([A-Z])?\", line)\n",
    "        if match:\n",
    "            quantity, product, price_unit, price_total, bonuscode = match.groups()\n",
    "            \n",
    "            print(match.groups())\n",
    "\n",
    "            # transform values to database types\n",
    "            quantity = int(quantity)\n",
    "            product = product.strip()\n",
    "            price_unit = float(price_unit.replace(\",\", \".\"))\n",
    "            price_total = quantity * price_unit\n",
    "            discount_ind = \"J\" if bonuscode == \"B\" else \"N\"\n",
    "\n",
    "            # Insert a row into a table\n",
    "            cursor.execute(\n",
    "                \"INSERT INTO receiptTable (filename, product, quantity, price_unit, price_total, discount_ind) VALUES (?, ?, ?, ?, ?, ?)\",\n",
    "                (filename, product, quantity, price_unit, price_total, discount_ind)\n",
    "                )\n",
    "\n",
    "\n",
    "    if 'BONUSKAART' in line:\n",
    "        start_receipt = 1\n",
    "\n",
    "# Commit changes\n",
    "conn.commit()\n",
    "\n",
    "# Close connection\n",
    "conn.close()\n"
   ]
  }
 ],
 "metadata": {
  "kernelspec": {
   "display_name": ".venv",
   "language": "python",
   "name": "python3"
  },
  "language_info": {
   "codemirror_mode": {
    "name": "ipython",
    "version": 3
   },
   "file_extension": ".py",
   "mimetype": "text/x-python",
   "name": "python",
   "nbconvert_exporter": "python",
   "pygments_lexer": "ipython3",
   "version": "3.13.7"
  }
 },
 "nbformat": 4,
 "nbformat_minor": 5
}
