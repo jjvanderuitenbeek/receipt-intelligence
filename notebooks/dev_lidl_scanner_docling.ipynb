{
 "cells": [
  {
   "cell_type": "code",
   "execution_count": 4,
   "id": "8af2c566",
   "metadata": {},
   "outputs": [],
   "source": [
    "import sys\n",
    "from pathlib import Path\n",
    "import os\n",
    "\n",
    "project_root = Path().resolve().parent  \n",
    "sys.path.append(str(project_root))\n",
    "\n",
    "PDF_PATH = project_root / \"data/raw/lidl/WhatsApp Image 2025-09-09 at 12.48.55.jpeg\"\n"
   ]
  },
  {
   "cell_type": "code",
   "execution_count": 5,
   "id": "685a5cb0",
   "metadata": {},
   "outputs": [
    {
     "name": "stdout",
     "output_type": "stream",
     "text": [
      "Valid: file exists\n"
     ]
    }
   ],
   "source": [
    "if os.path.isfile(PDF_PATH):\n",
    "    print(\"Valid: file exists\")\n",
    "else:\n",
    "    print(\"Invalid: not a file or doesn’t exist\")"
   ]
  },
  {
   "cell_type": "code",
   "execution_count": 6,
   "id": "9597338f",
   "metadata": {},
   "outputs": [
    {
     "name": "stderr",
     "output_type": "stream",
     "text": [
      "c:\\Users\\Aline vd Ruitenbeek\\Documents\\Jonathan\\Python projects\\receipt-intelligence\\.venv\\Lib\\site-packages\\tqdm\\auto.py:21: TqdmWarning: IProgress not found. Please update jupyter and ipywidgets. See https://ipywidgets.readthedocs.io/en/stable/user_install.html\n",
      "  from .autonotebook import tqdm as notebook_tqdm\n",
      "2025-09-09 13:07:00,560 - INFO - detected formats: [<InputFormat.IMAGE: 'image'>]\n",
      "2025-09-09 13:07:05,459 - INFO - Going to convert document batch...\n",
      "2025-09-09 13:07:05,464 - INFO - Initializing pipeline for StandardPdfPipeline with options hash 409740a308d273b3f090712d250cd783\n",
      "2025-09-09 13:07:05,496 - INFO - Loading plugin 'docling_defaults'\n",
      "2025-09-09 13:07:05,513 - INFO - Registered ocr engines: ['easyocr', 'ocrmac', 'rapidocr', 'tesserocr', 'tesseract']\n",
      "2025-09-09 13:07:06,479 - INFO - Accelerator device: 'cpu'\n",
      "2025-09-09 13:07:06,494 - WARNING - Downloading detection model, please wait. This may take several minutes depending upon your network connection.\n",
      "2025-09-09 13:07:13,309 - INFO - Download complete\n",
      "2025-09-09 13:07:13,310 - WARNING - Downloading recognition model, please wait. This may take several minutes depending upon your network connection.\n",
      "2025-09-09 13:07:14,880 - INFO - Download complete.\n",
      "2025-09-09 13:07:16,516 - INFO - Accelerator device: 'cpu'\n",
      "c:\\Users\\Aline vd Ruitenbeek\\Documents\\Jonathan\\Python projects\\receipt-intelligence\\.venv\\Lib\\site-packages\\huggingface_hub\\file_download.py:143: UserWarning: `huggingface_hub` cache-system uses symlinks by default to efficiently store duplicated files but your machine does not support them in C:\\Users\\Aline vd Ruitenbeek\\.cache\\huggingface\\hub\\models--ds4sd--docling-layout-heron. Caching files will still work but in a degraded version that might require more space on your disk. This warning can be disabled by setting the `HF_HUB_DISABLE_SYMLINKS_WARNING` environment variable. For more details, see https://huggingface.co/docs/huggingface_hub/how-to-cache#limitations.\n",
      "To support symlinks on Windows, you either need to activate Developer Mode or to run Python as an administrator. In order to activate developer mode, see this article: https://docs.microsoft.com/en-us/windows/apps/get-started/enable-your-device-for-development\n",
      "  warnings.warn(message)\n",
      "c:\\Users\\Aline vd Ruitenbeek\\Documents\\Jonathan\\Python projects\\receipt-intelligence\\.venv\\Lib\\site-packages\\huggingface_hub\\file_download.py:143: UserWarning: `huggingface_hub` cache-system uses symlinks by default to efficiently store duplicated files but your machine does not support them in C:\\Users\\Aline vd Ruitenbeek\\.cache\\huggingface\\hub\\models--ds4sd--docling-models. Caching files will still work but in a degraded version that might require more space on your disk. This warning can be disabled by setting the `HF_HUB_DISABLE_SYMLINKS_WARNING` environment variable. For more details, see https://huggingface.co/docs/huggingface_hub/how-to-cache#limitations.\n",
      "To support symlinks on Windows, you either need to activate Developer Mode or to run Python as an administrator. In order to activate developer mode, see this article: https://docs.microsoft.com/en-us/windows/apps/get-started/enable-your-device-for-development\n",
      "  warnings.warn(message)\n",
      "2025-09-09 13:08:00,225 - INFO - Accelerator device: 'cpu'\n",
      "2025-09-09 13:08:00,761 - INFO - Loading plugin 'docling_defaults'\n",
      "2025-09-09 13:08:00,764 - INFO - Registered picture descriptions: ['vlm', 'api']\n",
      "2025-09-09 13:08:00,765 - INFO - Processing document WhatsApp Image 2025-09-09 at 12.48.55.jpeg\n",
      "c:\\Users\\Aline vd Ruitenbeek\\Documents\\Jonathan\\Python projects\\receipt-intelligence\\.venv\\Lib\\site-packages\\torch\\utils\\data\\dataloader.py:666: UserWarning: 'pin_memory' argument is set as true but no accelerator is found, then device pinned memory won't be used.\n",
      "  warnings.warn(warn_msg)\n",
      "2025-09-09 13:08:23,486 - INFO - Finished converting document WhatsApp Image 2025-09-09 at 12.48.55.jpeg in 82.93 sec.\n"
     ]
    }
   ],
   "source": [
    "from docling.document_converter import DocumentConverter\n",
    "\n",
    "converter = DocumentConverter()\n",
    "result = converter.convert(PDF_PATH)"
   ]
  },
  {
   "cell_type": "code",
   "execution_count": 17,
   "id": "76906a96",
   "metadata": {},
   "outputs": [
    {
     "name": "stderr",
     "output_type": "stream",
     "text": [
      "2025-09-09 13:47:38,491 - WARNING - Parameter `strict_text` has been deprecated and will be ignored.\n"
     ]
    }
   ],
   "source": [
    "output_text = result.document.export_to_text()\n",
    "\n",
    "# Opens (or creates) a file called \"example.txt\" and writes text\n",
    "with open(project_root / \"tmp/example.txt\", \"w\") as file:\n",
    "    file.write(output_text)\n",
    "\n"
   ]
  }
 ],
 "metadata": {
  "kernelspec": {
   "display_name": ".venv",
   "language": "python",
   "name": "python3"
  },
  "language_info": {
   "codemirror_mode": {
    "name": "ipython",
    "version": 3
   },
   "file_extension": ".py",
   "mimetype": "text/x-python",
   "name": "python",
   "nbconvert_exporter": "python",
   "pygments_lexer": "ipython3",
   "version": "3.13.7"
  }
 },
 "nbformat": 4,
 "nbformat_minor": 5
}
