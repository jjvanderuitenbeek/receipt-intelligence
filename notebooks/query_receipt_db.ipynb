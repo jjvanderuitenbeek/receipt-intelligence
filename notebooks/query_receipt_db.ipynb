{
 "cells": [
  {
   "cell_type": "code",
   "execution_count": 1,
   "id": "d6f17c1a",
   "metadata": {},
   "outputs": [],
   "source": [
    "import sys\n",
    "import sqlite3\n",
    "from pathlib import Path\n",
    "\n",
    "project_root = Path().resolve().parent  \n",
    "sys.path.append(str(project_root))\n"
   ]
  },
  {
   "cell_type": "code",
   "execution_count": 22,
   "id": "c0e781d3",
   "metadata": {},
   "outputs": [],
   "source": [
    "DB_PATH = project_root / \"data/cleaned/receipts.db\"\n",
    "\n",
    "# connect to database\n",
    "conn = sqlite3.connect(DB_PATH)\n",
    "cursor = conn.cursor()"
   ]
  },
  {
   "cell_type": "code",
   "execution_count": 3,
   "id": "b589a23d",
   "metadata": {},
   "outputs": [
    {
     "name": "stdout",
     "output_type": "stream",
     "text": [
      "Tables in database:\n",
      "testTable\n",
      "sqlite_sequence\n",
      "receiptTable\n"
     ]
    }
   ],
   "source": [
    "# List all tables\n",
    "cursor.execute(\"SELECT name FROM sqlite_master WHERE type='table';\")\n",
    "tables = cursor.fetchall()\n",
    "\n",
    "print(\"Tables in database:\")\n",
    "for table in tables:\n",
    "    print(table[0])"
   ]
  },
  {
   "cell_type": "code",
   "execution_count": 23,
   "id": "f6473b96",
   "metadata": {},
   "outputs": [
    {
     "name": "stdout",
     "output_type": "stream",
     "text": [
      "18\n",
      "(18, 'AH_kassabon_2025-08-25 185700_1209.pdf', 'WALDK HEEL', 2, 2.39, 4.78, 'N')\n"
     ]
    }
   ],
   "source": [
    "# Fetch rows\n",
    "cursor.execute(\"SELECT * FROM receiptTable\")\n",
    "rows = cursor.fetchall()\n",
    "\n",
    "print(len(rows))\n",
    "print(rows[len(rows)-1])\n"
   ]
  }
 ],
 "metadata": {
  "kernelspec": {
   "display_name": ".venv",
   "language": "python",
   "name": "python3"
  },
  "language_info": {
   "codemirror_mode": {
    "name": "ipython",
    "version": 3
   },
   "file_extension": ".py",
   "mimetype": "text/x-python",
   "name": "python",
   "nbconvert_exporter": "python",
   "pygments_lexer": "ipython3",
   "version": "3.13.7"
  }
 },
 "nbformat": 4,
 "nbformat_minor": 5
}
