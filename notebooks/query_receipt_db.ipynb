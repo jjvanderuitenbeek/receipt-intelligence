{
 "cells": [
  {
   "cell_type": "code",
   "execution_count": 1,
   "id": "d6f17c1a",
   "metadata": {},
   "outputs": [],
   "source": [
    "import sys\n",
    "import sqlite3\n",
    "from pathlib import Path\n",
    "\n",
    "project_root = Path().resolve().parent  \n",
    "sys.path.append(str(project_root))\n"
   ]
  },
  {
   "cell_type": "code",
   "execution_count": 2,
   "id": "c0e781d3",
   "metadata": {},
   "outputs": [],
   "source": [
    "DB_PATH = project_root / \"data/cleaned/receipts.db\"\n",
    "\n",
    "# connect to database\n",
    "conn = sqlite3.connect(DB_PATH)\n",
    "cursor = conn.cursor()"
   ]
  },
  {
   "cell_type": "code",
   "execution_count": 3,
   "id": "b589a23d",
   "metadata": {},
   "outputs": [
    {
     "name": "stdout",
     "output_type": "stream",
     "text": [
      "Tables in database:\n",
      "testTable\n",
      "sqlite_sequence\n",
      "receiptTable\n"
     ]
    }
   ],
   "source": [
    "# List all tables\n",
    "cursor.execute(\"SELECT name FROM sqlite_master WHERE type='table';\")\n",
    "tables = cursor.fetchall()\n",
    "\n",
    "print(\"Tables in database:\")\n",
    "for table in tables:\n",
    "    print(table[0])"
   ]
  },
  {
   "cell_type": "code",
   "execution_count": 11,
   "id": "f6473b96",
   "metadata": {},
   "outputs": [
    {
     "name": "stdout",
     "output_type": "stream",
     "text": [
      "[('SPERZIEBONEN', 'AH'), ('AH FETA', 'AH'), ('KIPDIJFILET', 'AH'), ('KERRYGOLD', 'AH'), ('AH ELSTAR', 'AH'), ('LP MATISS HL', 'AH'), ('BLOEMKOOL', 'AH'), ('HAZLNPAST', 'AH'), ('AH BANANEN', 'AH'), ('MATZES', 'AH'), ('VER KIP KRDN', 'AH'), ('AH DRINKYOGH', 'AH'), ('AH VVP HAGEL', 'AH'), ('TARWEBLOEM', 'AH'), ('RUNDCERVELAA', 'AH'), ('MU BREAKER', 'AH'), ('FT SARDINES', 'AH'), ('LP MATISSE', 'AH'), ('AH BIO', 'AH')]\n"
     ]
    }
   ],
   "source": [
    "# Fetch rows\n",
    "cursor.execute(\"SELECT distinct product, store_cod FROM receiptTable\")\n",
    "rows = cursor.fetchall()\n",
    "\n",
    "print(rows[1:20])"
   ]
  },
  {
   "cell_type": "code",
   "execution_count": 8,
   "id": "56e4ce5e",
   "metadata": {},
   "outputs": [
    {
     "name": "stdout",
     "output_type": "stream",
     "text": [
      "('CREATE TABLE receiptTable (\\n'\n",
      " '            id INTEGER PRIMARY KEY AUTOINCREMENT,\\n'\n",
      " '                   \\n'\n",
      " '            submitted_by TEXT NOT NULL,\\n'\n",
      " '            filename TEXT NOT NULL,\\n'\n",
      " '            receipt_date DATE NOT NULL,\\n'\n",
      " '            store_cod TEXT NOT NULL,\\n'\n",
      " '                    \\n'\n",
      " '            product TEXT NOT NULL,\\n'\n",
      " '            quantity INTEGER NOT NULL,\\n'\n",
      " '            price_unit REAL NOT NULL,\\n'\n",
      " '            price_total REAL NOT NULL,       \\n'\n",
      " '            discount_ind TEXT NOT NULL,\\n'\n",
      " '                   \\n'\n",
      " '            load_date DATE NOT NULL\\n'\n",
      " '        )',)\n"
     ]
    }
   ],
   "source": [
    "import pprint\n",
    "\n",
    "# Fetch rows\n",
    "cursor.execute(\"SELECT sql FROM sqlite_master WHERE type='table' AND name='receiptTable'\")\n",
    "rows = cursor.fetchall()\n",
    "\n",
    "for r in rows:\n",
    "    pprint.pprint(r)"
   ]
  }
 ],
 "metadata": {
  "kernelspec": {
   "display_name": ".venv",
   "language": "python",
   "name": "python3"
  },
  "language_info": {
   "codemirror_mode": {
    "name": "ipython",
    "version": 3
   },
   "file_extension": ".py",
   "mimetype": "text/x-python",
   "name": "python",
   "nbconvert_exporter": "python",
   "pygments_lexer": "ipython3",
   "version": "3.13.7"
  }
 },
 "nbformat": 4,
 "nbformat_minor": 5
}
