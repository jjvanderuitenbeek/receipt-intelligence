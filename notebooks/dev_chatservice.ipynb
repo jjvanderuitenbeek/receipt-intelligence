{
 "cells": [
  {
   "cell_type": "code",
   "execution_count": 2,
   "id": "f4a2ad81",
   "metadata": {},
   "outputs": [],
   "source": [
    "from typing import Annotated, Literal\n",
    "from typing_extensions import TypedDict\n",
    "\n",
    "import os\n",
    "from pathlib import Path\n",
    "import sys\n",
    "from dotenv import load_dotenv\n",
    "import logging\n",
    "\n",
    "from langgraph.graph.message import add_messages\n",
    "from langgraph.graph import StateGraph, START, END\n",
    "from langgraph.checkpoint.memory import InMemorySaver\n",
    "\n",
    "from langchain_groq import ChatGroq\n",
    "from langchain_core.prompts import ChatPromptTemplate, MessagesPlaceholder\n",
    "from langchain_core.messages import HumanMessage, AIMessage\n",
    "\n",
    "\n",
    "project_root = Path().resolve().parent  \n",
    "sys.path.append(str(project_root))\n",
    "\n",
    "load_dotenv()\n",
    "\n",
    "from src.receipt_intelligence.config import settings\n",
    "from src.receipt_intelligence.modules.text2sql_service.prompts import Prompts\n"
   ]
  },
  {
   "cell_type": "code",
   "execution_count": 3,
   "id": "8ab9354b",
   "metadata": {},
   "outputs": [],
   "source": [
    "class ConversationState(TypedDict):\n",
    "    \"\"\"\n",
    "    State class for the LangGraph workflow. \n",
    "    It keeps track of the information necessary to maintain a coherent conversation between the user and the bot.\n",
    "    The StateGraph's state is defined as a typed dictionary containing an append-only list of messages. These messages form the chat history.\n",
    "\n",
    "    Attributes:\n",
    "        messages: A list of messages between the user and the bot.\n",
    "        last_userquery_type (str): Current message type, used for routing the message to the correct node.\n",
    "    \"\"\"\n",
    "    messages: Annotated[list, add_messages]\n",
    "    last_userquery_type: Literal[\"general_prompt\", \"sql_prompt\"] | None"
   ]
  },
  {
   "cell_type": "code",
   "execution_count": 4,
   "id": "aba14783",
   "metadata": {},
   "outputs": [],
   "source": [
    "def get_chat_model(temperature: float = 0.7, model_name: str = settings.GROQ_LLM_MODEL) -> ChatGroq:\n",
    "    \"\"\"\n",
    "    Returns a ChatGroq model instance with the given temperature and model name.\n",
    "    Defaults to standard settings.\n",
    "    \"\"\"\n",
    "    return ChatGroq(\n",
    "        api_key=os.getenv(\"GROQ_API_KEY\"),\n",
    "        model_name=model_name,\n",
    "        temperature=temperature,\n",
    "    )\n",
    "\n",
    "# Function creates a runnable pipeline\n",
    "def get_response_chain():\n",
    "\n",
    "    model = get_chat_model()\n",
    "    #model = model.bind_tools(tools)\n",
    "\n",
    "    prompt = ChatPromptTemplate.from_messages(\n",
    "        [\n",
    "            (\"system\", \"{system_message}\"),\n",
    "            MessagesPlaceholder(variable_name=\"msgs\"),\n",
    "        ]\n",
    "    )\n",
    "\n",
    "    return prompt | model\n",
    "\n"
   ]
  },
  {
   "cell_type": "code",
   "execution_count": 5,
   "id": "e89a519e",
   "metadata": {},
   "outputs": [],
   "source": [
    "def classify_message_node(state: ConversationState):\n",
    "    \n",
    "    last_message = state[\"messages\"][-1].content\n",
    "\n",
    "    response_chain = get_response_chain()\n",
    "\n",
    "    response = response_chain.invoke({\"system_message\": Prompts.CLASSIFY_MESSAGE_PROMPT, \"msgs\": [HumanMessage(content=last_message)]})\n",
    "\n",
    "    #return{\"messages\": [{\"role\": \"assistant\", \"content\": response.content}]}\n",
    "    return {\"last_userquery_type\": response.content}"
   ]
  },
  {
   "cell_type": "code",
   "execution_count": 6,
   "id": "6abead0e",
   "metadata": {},
   "outputs": [
    {
     "data": {
      "text/plain": [
       "<langgraph.graph.state.StateGraph at 0x271cc092ba0>"
      ]
     },
     "execution_count": 6,
     "metadata": {},
     "output_type": "execute_result"
    }
   ],
   "source": [
    "graph_builder = StateGraph(ConversationState)\n",
    "\n",
    "graph_builder.add_node(\"classify_message\", classify_message_node)\n",
    "\n",
    "graph_builder.add_edge(START, \"classify_message\")\n",
    "graph_builder.add_edge(\"classify_message\", END)\n",
    "\n"
   ]
  },
  {
   "cell_type": "code",
   "execution_count": 7,
   "id": "96366bff",
   "metadata": {},
   "outputs": [],
   "source": [
    "memory = InMemorySaver()\n",
    "graph = graph_builder.compile(checkpointer=memory)\n",
    "\n"
   ]
  },
  {
   "cell_type": "code",
   "execution_count": 8,
   "id": "3f9fd048",
   "metadata": {},
   "outputs": [
    {
     "name": "stdout",
     "output_type": "stream",
     "text": [
      "Graph state: {'messages': [HumanMessage(content='Hello world', additional_kwargs={}, response_metadata={}, id='13baa4c8-bbe4-4df5-9ce9-baaf4d5ebd8b')], 'last_userquery_type': 'general_prompt'}\n"
     ]
    }
   ],
   "source": [
    "state = None\n",
    "\n",
    "while True:\n",
    "    user_input = input(\"Enter a message (or 'quit' to stop): \")\n",
    "    if user_input.lower() == \"quit\":\n",
    "        break\n",
    "\n",
    "    # Run the graph with previous state\n",
    "    state = graph.invoke(\n",
    "        {\"messages\": [(\"user\", user_input)]},\n",
    "        config={\"configurable\": {\"thread_id\": \"conversation-1\"}},\n",
    "        state=state,\n",
    "    )\n",
    "\n",
    "    print(\"Graph state:\", state)"
   ]
  },
  {
   "cell_type": "code",
   "execution_count": 1,
   "id": "4ecc019a",
   "metadata": {},
   "outputs": [
    {
     "ename": "NameError",
     "evalue": "name 'state' is not defined",
     "output_type": "error",
     "traceback": [
      "\u001b[31m---------------------------------------------------------------------------\u001b[39m",
      "\u001b[31mNameError\u001b[39m                                 Traceback (most recent call last)",
      "\u001b[36mCell\u001b[39m\u001b[36m \u001b[39m\u001b[32mIn[1]\u001b[39m\u001b[32m, line 1\u001b[39m\n\u001b[32m----> \u001b[39m\u001b[32m1\u001b[39m \u001b[38;5;28mprint\u001b[39m(\u001b[43mstate\u001b[49m)\n",
      "\u001b[31mNameError\u001b[39m: name 'state' is not defined"
     ]
    }
   ],
   "source": [
    "print(state)"
   ]
  }
 ],
 "metadata": {
  "kernelspec": {
   "display_name": ".venv",
   "language": "python",
   "name": "python3"
  },
  "language_info": {
   "codemirror_mode": {
    "name": "ipython",
    "version": 3
   },
   "file_extension": ".py",
   "mimetype": "text/x-python",
   "name": "python",
   "nbconvert_exporter": "python",
   "pygments_lexer": "ipython3",
   "version": "3.13.7"
  }
 },
 "nbformat": 4,
 "nbformat_minor": 5
}
